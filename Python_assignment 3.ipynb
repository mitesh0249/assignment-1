{
 "cells": [
  {
   "cell_type": "markdown",
   "id": "f0cffa5f",
   "metadata": {},
   "source": [
    "#### 15. Given a number n, write a python program to make and print the list of Fibonacci series up to n.\n",
    "#### Input : n=7\n",
    "#### Hint : first 7 numbers in the series\n",
    "#### Expected output :\n",
    "#### First few Fibonacci numbers are 0, 1, 1, 2, 3, 5, 8, 13 "
   ]
  },
  {
   "cell_type": "code",
   "execution_count": 2,
   "id": "04158282",
   "metadata": {},
   "outputs": [
    {
     "name": "stdout",
     "output_type": "stream",
     "text": [
      "Fibonacci series : 0 1 1 2 3 5 8 13 21 34 55 89 144 233 377 \n"
     ]
    }
   ],
   "source": [
    "num = 15\n",
    "n1,n2 = 0,1\n",
    "print(\"Fibonacci series :\",n1,n2,end = \" \")\n",
    "\n",
    "for i in range (2,num):\n",
    "    n3 = n1 + n2\n",
    "    n1 = n2\n",
    "    n2 = n3\n",
    "    print(n3,end = \" \")\n",
    "    \n",
    "print()"
   ]
  },
  {
   "cell_type": "markdown",
   "id": "b66dce77",
   "metadata": {},
   "source": [
    "#### 16. Counting the frequencies in a list using a dictionary in Python.\n",
    "#### Input : [1, 1, 1, 5, 5, 3, 1, 3, 3, 1,4, 4, 4, 2, 2, 2, 2]\"\"\""
   ]
  },
  {
   "cell_type": "code",
   "execution_count": 33,
   "id": "56e8fd08",
   "metadata": {},
   "outputs": [
    {
     "name": "stdout",
     "output_type": "stream",
     "text": [
      "{1: 5, 5: 2, 3: 3, 4: 3, 2: 4}\n"
     ]
    }
   ],
   "source": [
    "def countfreq(li):\n",
    "    freq = {}\n",
    "    for items in li:\n",
    "        freq[items] = li.count(items)\n",
    "        print(freq)\n",
    "li = [1, 1, 1, 5, 5, 3, 1, 3, 3, 1,4, 4, 4, 2, 2, 2, 2]\n",
    "CountFreq(li)    "
   ]
  },
  {
   "cell_type": "markdown",
   "id": "89ba780f",
   "metadata": {},
   "source": [
    "#### 17. Write a python program using function to find the sum of odd series and even series\n",
    "#### Odd series: 12/ 1! + 32/ 3! + 52/ 5!+……n\n",
    "#### Even series: 22/ 2! + 42/ 4! + 62/ 6!+……n\n"
   ]
  },
  {
   "cell_type": "code",
   "execution_count": null,
   "id": "eddbc902",
   "metadata": {},
   "outputs": [],
   "source": []
  },
  {
   "cell_type": "markdown",
   "id": "cf752b15",
   "metadata": {},
   "source": [
    "#### 18. Python Program to Find Factorial of Number Using Recursion."
   ]
  },
  {
   "cell_type": "code",
   "execution_count": 1,
   "id": "f32c9d86",
   "metadata": {},
   "outputs": [
    {
     "name": "stdout",
     "output_type": "stream",
     "text": [
      "number :  5\n",
      "Factorial :  120\n"
     ]
    }
   ],
   "source": [
    "def factorial(n):\n",
    "    if (n==1 or n==0):\n",
    "        return 1\n",
    "    else:\n",
    "        return (n * factorial(n-1))\n",
    "num = 5;\n",
    "print(\"number : \",num)\n",
    "print(\"Factorial : \",factorial(num))"
   ]
  },
  {
   "cell_type": "markdown",
   "id": "65129b08",
   "metadata": {},
   "source": [
    "#### 19. Write a Python function that takes a list and returns a new list with unique elements of the first list."
   ]
  },
  {
   "cell_type": "code",
   "execution_count": 5,
   "id": "46e7fcc1",
   "metadata": {},
   "outputs": [
    {
     "name": "stdout",
     "output_type": "stream",
     "text": [
      "[1, 2, 3, 4, 5]\n"
     ]
    }
   ],
   "source": [
    "def unique_list(l):\n",
    "    x = []\n",
    "    for a in l:\n",
    "        if a not in x:\n",
    "            x.append(a)\n",
    "    return x\n",
    "\n",
    "print(unique_list([1,2,3,3,3,3,4,5])) \n"
   ]
  }
 ],
 "metadata": {
  "kernelspec": {
   "display_name": "Python 3 (ipykernel)",
   "language": "python",
   "name": "python3"
  },
  "language_info": {
   "codemirror_mode": {
    "name": "ipython",
    "version": 3
   },
   "file_extension": ".py",
   "mimetype": "text/x-python",
   "name": "python",
   "nbconvert_exporter": "python",
   "pygments_lexer": "ipython3",
   "version": "3.9.13"
  }
 },
 "nbformat": 4,
 "nbformat_minor": 5
}
