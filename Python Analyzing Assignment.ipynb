{
 "cells": [
  {
   "cell_type": "code",
   "execution_count": 1,
   "id": "bd576473",
   "metadata": {},
   "outputs": [],
   "source": [
    "import numpy as np\n",
    "import pandas as pd\n",
    "import matplotlib.pyplot as plt"
   ]
  },
  {
   "cell_type": "markdown",
   "id": "b1a5078d",
   "metadata": {},
   "source": [
    "### Q.1 Convert a 1D array to a 2D array with 2 rows "
   ]
  },
  {
   "cell_type": "code",
   "execution_count": 3,
   "id": "08d33431",
   "metadata": {},
   "outputs": [
    {
     "name": "stdout",
     "output_type": "stream",
     "text": [
      "[[1 2 3 8 5 9]]\n",
      "Array with 2 Rows :- \n",
      " [[1 2 3]\n",
      " [8 5 9]]\n"
     ]
    }
   ],
   "source": [
    "a = np.array([1,2,3,8,5,9],ndmin = 2)\n",
    "print(a)\n",
    "print(\"Array with 2 Rows :- \\n\",a.reshape(2,3))"
   ]
  },
  {
   "cell_type": "markdown",
   "id": "3bca91a3",
   "metadata": {},
   "source": [
    "### Q.2 Get the common items between a and b "
   ]
  },
  {
   "cell_type": "code",
   "execution_count": 6,
   "id": "27b93ee3",
   "metadata": {},
   "outputs": [
    {
     "name": "stdout",
     "output_type": "stream",
     "text": [
      "[2 4]\n"
     ]
    }
   ],
   "source": [
    "a = np.array([1,2,3,2,3,4,3,4,5,6])\n",
    "b = np.array([7,2,10,2,7,4,9,4,9,8]) \n",
    "print(np.intersect1d(a,b))"
   ]
  },
  {
   "cell_type": "markdown",
   "id": "1a1f6e8e",
   "metadata": {},
   "source": [
    "### Q.3 Get all items between 5 and 10 from a. \n"
   ]
  },
  {
   "cell_type": "code",
   "execution_count": 4,
   "id": "8ea1c85e",
   "metadata": {},
   "outputs": [
    {
     "name": "stdout",
     "output_type": "stream",
     "text": [
      "(array([1, 3, 4], dtype=int64),)\n"
     ]
    }
   ],
   "source": [
    "a = np.array([2, 6, 1, 9, 10, 3, 27]) \n",
    "x = np.where((a > 5) & (a <= 10))\n",
    "print(x)  # finding index no of element"
   ]
  },
  {
   "cell_type": "code",
   "execution_count": 3,
   "id": "b13adef2",
   "metadata": {},
   "outputs": [
    {
     "name": "stdout",
     "output_type": "stream",
     "text": [
      "initial_array :  [ 2  6  1  9 10  3 27]\n",
      "resultant_array :  (array([1, 3, 4], dtype=int64),)\n"
     ]
    }
   ],
   "source": [
    "ini_array = np.array([2, 6, 1, 9, 10, 3, 27])\n",
    "print(\"initial_array : \", str(ini_array));\n",
    "result = np.where(np.logical_and(ini_array>= 5, ini_array<= 10))\n",
    "print(\"resultant_array : \", result)"
   ]
  },
  {
   "cell_type": "code",
   "execution_count": 6,
   "id": "1a7f9ab2",
   "metadata": {},
   "outputs": [
    {
     "name": "stdout",
     "output_type": "stream",
     "text": [
      "[ 2  6  1  9 10  3 27]\n",
      "(array([1, 3, 4], dtype=int64),)\n"
     ]
    }
   ],
   "source": [
    "a = np.array([2, 6, 1, 9, 10, 3, 27])\n",
    "print(a)\n",
    "result = np.where(np.logical_and(a>=5,a<=10))\n",
    "print(result)"
   ]
  },
  {
   "cell_type": "markdown",
   "id": "c75d40a8",
   "metadata": {},
   "source": [
    "### Q.4 Limit the number of items printed in python NumPy array a to a maximum of 6 elements."
   ]
  },
  {
   "cell_type": "code",
   "execution_count": 5,
   "id": "e8536a07",
   "metadata": {},
   "outputs": [
    {
     "data": {
      "text/plain": [
       "array([0, 1, 2, 3, 4, 5])"
      ]
     },
     "execution_count": 5,
     "metadata": {},
     "output_type": "execute_result"
    }
   ],
   "source": [
    "arr = np.array([0, 1, 2, 3, 4, 5, 6, 7, 8, 9, 10, 11, 12, 13, 14])\n",
    "np.set_printoptions(threshold=3)\n",
    "np.arange(6)"
   ]
  },
  {
   "cell_type": "markdown",
   "id": "8ac7f082",
   "metadata": {},
   "source": [
    "# pandas"
   ]
  },
  {
   "cell_type": "markdown",
   "id": "0d134123",
   "metadata": {},
   "source": [
    "### 1. Compute the minimum, 25th percentile, median, 75th, and maximum of ser. "
   ]
  },
  {
   "cell_type": "code",
   "execution_count": 5,
   "id": "1c6ac645",
   "metadata": {},
   "outputs": [
    {
     "name": "stdout",
     "output_type": "stream",
     "text": [
      "Original Series :\n",
      "0      3.000938\n",
      "1     11.370722\n",
      "2     14.612143\n",
      "3      8.990256\n",
      "4     13.925283\n",
      "5     12.056875\n",
      "6     10.884719\n",
      "7      5.719827\n",
      "8      9.242017\n",
      "9     11.020006\n",
      "10     8.167892\n",
      "11    11.740654\n",
      "12     7.665620\n",
      "13    13.267388\n",
      "14    12.690883\n",
      "15     9.582355\n",
      "16     7.874878\n",
      "17    14.118931\n",
      "18     8.247458\n",
      "19     5.526727\n",
      "dtype: float64\n",
      "\n",
      "Minimum, 25th percentile, median, 75th, and maximum of a given series:\n",
      "[ 3.00093811  8.09463867 10.23353705 12.21537733 14.61214321]\n"
     ]
    }
   ],
   "source": [
    "num_state = np.random.RandomState(100)\n",
    "num_series = pd.Series(num_state.normal(10,4,20))\n",
    "print(\"Original Series :\")\n",
    "print(num_series)\n",
    "result = np.percentile(num_series,q = [0,25,50,75,100])\n",
    "print(\"\\nMinimum, 25th percentile, median, 75th, and maximum of a given series:\")\n",
    "print(result)"
   ]
  },
  {
   "cell_type": "markdown",
   "id": "98c01468",
   "metadata": {},
   "source": [
    "###  2. Creating A Pandas Data Frame and Using Sample Data Sets "
   ]
  },
  {
   "cell_type": "code",
   "execution_count": 15,
   "id": "6d37320b",
   "metadata": {},
   "outputs": [
    {
     "data": {
      "text/html": [
       "<div>\n",
       "<style scoped>\n",
       "    .dataframe tbody tr th:only-of-type {\n",
       "        vertical-align: middle;\n",
       "    }\n",
       "\n",
       "    .dataframe tbody tr th {\n",
       "        vertical-align: top;\n",
       "    }\n",
       "\n",
       "    .dataframe thead th {\n",
       "        text-align: right;\n",
       "    }\n",
       "</style>\n",
       "<table border=\"1\" class=\"dataframe\">\n",
       "  <thead>\n",
       "    <tr style=\"text-align: right;\">\n",
       "      <th></th>\n",
       "      <th>first name</th>\n",
       "      <th>last name</th>\n",
       "    </tr>\n",
       "  </thead>\n",
       "  <tbody>\n",
       "    <tr>\n",
       "      <th>1</th>\n",
       "      <td>Kamlesh</td>\n",
       "      <td>Rana</td>\n",
       "    </tr>\n",
       "    <tr>\n",
       "      <th>0</th>\n",
       "      <td>Jay</td>\n",
       "      <td>Patel</td>\n",
       "    </tr>\n",
       "  </tbody>\n",
       "</table>\n",
       "</div>"
      ],
      "text/plain": [
       "  first name last name\n",
       "1    Kamlesh      Rana\n",
       "0        Jay     Patel"
      ]
     },
     "execution_count": 15,
     "metadata": {},
     "output_type": "execute_result"
    }
   ],
   "source": [
    "dictt = {\n",
    "    \"first name\" : [\"Jay\",\"Kamlesh\",\"Ammit\",\"Kamlesh\"],\n",
    "    \"last name\" : [\"Patel\",\"Rana\",\"Makwana\",\"Pandya\"]\n",
    "}\n",
    "dictt\n",
    "\n",
    "a = pd.DataFrame(dictt)\n",
    "a.sample(n = 2)"
   ]
  },
  {
   "cell_type": "markdown",
   "id": "40c849f6",
   "metadata": {},
   "source": [
    "###  3. Using NumPy, create a Pandas Data Frame with five rows and three columns. "
   ]
  },
  {
   "cell_type": "code",
   "execution_count": 13,
   "id": "dc8f6ea7",
   "metadata": {},
   "outputs": [
    {
     "name": "stdout",
     "output_type": "stream",
     "text": [
      "       Column_1  Column_2  Column_3\n",
      "Row_1        15        22        43\n",
      "Row_2        33        24        56\n"
     ]
    }
   ],
   "source": [
    "numpyArray = np.array([[15, 22, 43], \n",
    "                       [33, 24, 56]])\n",
    "panda_df = pd.DataFrame( data = numpyArray , index = [\"Row_1\", \"Row_2\"], columns = [\"Column_1\",\"Column_2\", \"Column_3\",])\n",
    "                                                                                    \n",
    "print(panda_df)"
   ]
  },
  {
   "cell_type": "markdown",
   "id": "4da04992",
   "metadata": {},
   "source": [
    "### 4. For a Pandas Data Frame created from a NumPy array, what is the default behavior for the labels for the columns? For the rows?"
   ]
  },
  {
   "cell_type": "code",
   "execution_count": 17,
   "id": "f414824d",
   "metadata": {},
   "outputs": [],
   "source": [
    "# In pandas data frames, each row also has a name. By default, this label is just the row number. \n",
    "# However, you can set one of your columns to be the index of your DataFrame, which means that its values will be used \n",
    "# as row labels."
   ]
  },
  {
   "cell_type": "markdown",
   "id": "efecfb6a",
   "metadata": {},
   "source": [
    "### 5. take csv file contains at least 10,000 rows and 12 columns which numerical and text values according to that continue following steps. "
   ]
  },
  {
   "cell_type": "code",
   "execution_count": 14,
   "id": "6828e8df",
   "metadata": {},
   "outputs": [
    {
     "data": {
      "text/html": [
       "<div>\n",
       "<style scoped>\n",
       "    .dataframe tbody tr th:only-of-type {\n",
       "        vertical-align: middle;\n",
       "    }\n",
       "\n",
       "    .dataframe tbody tr th {\n",
       "        vertical-align: top;\n",
       "    }\n",
       "\n",
       "    .dataframe thead th {\n",
       "        text-align: right;\n",
       "    }\n",
       "</style>\n",
       "<table border=\"1\" class=\"dataframe\">\n",
       "  <thead>\n",
       "    <tr style=\"text-align: right;\">\n",
       "      <th></th>\n",
       "      <th>Year</th>\n",
       "      <th>Industry_aggregation_NZSIOC</th>\n",
       "      <th>Industry_code_NZSIOC</th>\n",
       "      <th>Industry_name_NZSIOC</th>\n",
       "      <th>Units</th>\n",
       "      <th>Variable_code</th>\n",
       "      <th>Variable_name</th>\n",
       "      <th>Variable_category</th>\n",
       "      <th>Value</th>\n",
       "      <th>Industry_code_ANZSIC06</th>\n",
       "      <th>Industry_code_ANZSIC06.1</th>\n",
       "      <th>Code1</th>\n",
       "      <th>Code2</th>\n",
       "      <th>Code3</th>\n",
       "      <th>Code4</th>\n",
       "      <th>Code5</th>\n",
       "      <th>Code6</th>\n",
       "      <th>Code7</th>\n",
       "      <th>Code8</th>\n",
       "    </tr>\n",
       "  </thead>\n",
       "  <tbody>\n",
       "    <tr>\n",
       "      <th>0</th>\n",
       "      <td>2021</td>\n",
       "      <td>Level 1</td>\n",
       "      <td>99999</td>\n",
       "      <td>All industries</td>\n",
       "      <td>Dollars (millions)</td>\n",
       "      <td>H01</td>\n",
       "      <td>Total income</td>\n",
       "      <td>Financial performance</td>\n",
       "      <td>757504</td>\n",
       "      <td>ANZSIC06 divisions A-S (excluding classes K633...</td>\n",
       "      <td>ANZSIC06 divisions A-S (excluding classes K6330</td>\n",
       "      <td>L6711</td>\n",
       "      <td>O7552</td>\n",
       "      <td>O760</td>\n",
       "      <td>O771</td>\n",
       "      <td>O772</td>\n",
       "      <td>S9540</td>\n",
       "      <td>S9601</td>\n",
       "      <td>S9602</td>\n",
       "    </tr>\n",
       "    <tr>\n",
       "      <th>1</th>\n",
       "      <td>2021</td>\n",
       "      <td>Level 1</td>\n",
       "      <td>99999</td>\n",
       "      <td>All industries</td>\n",
       "      <td>Dollars (millions)</td>\n",
       "      <td>H04</td>\n",
       "      <td>Sales, government funding, grants and subsidies</td>\n",
       "      <td>Financial performance</td>\n",
       "      <td>674890</td>\n",
       "      <td>ANZSIC06 divisions A-S (excluding classes K633...</td>\n",
       "      <td>ANZSIC06 divisions A-S (excluding classes K6330</td>\n",
       "      <td>L6711</td>\n",
       "      <td>O7552</td>\n",
       "      <td>O760</td>\n",
       "      <td>O771</td>\n",
       "      <td>O772</td>\n",
       "      <td>S9540</td>\n",
       "      <td>S9601</td>\n",
       "      <td>S9602</td>\n",
       "    </tr>\n",
       "    <tr>\n",
       "      <th>2</th>\n",
       "      <td>2021</td>\n",
       "      <td>Level 1</td>\n",
       "      <td>99999</td>\n",
       "      <td>All industries</td>\n",
       "      <td>Dollars (millions)</td>\n",
       "      <td>H05</td>\n",
       "      <td>Interest, dividends and donations</td>\n",
       "      <td>Financial performance</td>\n",
       "      <td>49593</td>\n",
       "      <td>ANZSIC06 divisions A-S (excluding classes K633...</td>\n",
       "      <td>ANZSIC06 divisions A-S (excluding classes K6330</td>\n",
       "      <td>L6711</td>\n",
       "      <td>O7552</td>\n",
       "      <td>O760</td>\n",
       "      <td>O771</td>\n",
       "      <td>O772</td>\n",
       "      <td>S9540</td>\n",
       "      <td>S9601</td>\n",
       "      <td>S9602</td>\n",
       "    </tr>\n",
       "    <tr>\n",
       "      <th>3</th>\n",
       "      <td>2021</td>\n",
       "      <td>Level 1</td>\n",
       "      <td>99999</td>\n",
       "      <td>All industries</td>\n",
       "      <td>Dollars (millions)</td>\n",
       "      <td>H07</td>\n",
       "      <td>Non-operating income</td>\n",
       "      <td>Financial performance</td>\n",
       "      <td>33020</td>\n",
       "      <td>ANZSIC06 divisions A-S (excluding classes K633...</td>\n",
       "      <td>ANZSIC06 divisions A-S (excluding classes K6330</td>\n",
       "      <td>L6711</td>\n",
       "      <td>O7552</td>\n",
       "      <td>O760</td>\n",
       "      <td>O771</td>\n",
       "      <td>O772</td>\n",
       "      <td>S9540</td>\n",
       "      <td>S9601</td>\n",
       "      <td>S9602</td>\n",
       "    </tr>\n",
       "    <tr>\n",
       "      <th>4</th>\n",
       "      <td>2021</td>\n",
       "      <td>Level 1</td>\n",
       "      <td>99999</td>\n",
       "      <td>All industries</td>\n",
       "      <td>Dollars (millions)</td>\n",
       "      <td>H08</td>\n",
       "      <td>Total expenditure</td>\n",
       "      <td>Financial performance</td>\n",
       "      <td>654404</td>\n",
       "      <td>ANZSIC06 divisions A-S (excluding classes K633...</td>\n",
       "      <td>ANZSIC06 divisions A-S (excluding classes K6330</td>\n",
       "      <td>L6711</td>\n",
       "      <td>O7552</td>\n",
       "      <td>O760</td>\n",
       "      <td>O771</td>\n",
       "      <td>O772</td>\n",
       "      <td>S9540</td>\n",
       "      <td>S9601</td>\n",
       "      <td>S9602</td>\n",
       "    </tr>\n",
       "    <tr>\n",
       "      <th>...</th>\n",
       "      <td>...</td>\n",
       "      <td>...</td>\n",
       "      <td>...</td>\n",
       "      <td>...</td>\n",
       "      <td>...</td>\n",
       "      <td>...</td>\n",
       "      <td>...</td>\n",
       "      <td>...</td>\n",
       "      <td>...</td>\n",
       "      <td>...</td>\n",
       "      <td>...</td>\n",
       "      <td>...</td>\n",
       "      <td>...</td>\n",
       "      <td>...</td>\n",
       "      <td>...</td>\n",
       "      <td>...</td>\n",
       "      <td>...</td>\n",
       "      <td>...</td>\n",
       "      <td>...</td>\n",
       "    </tr>\n",
       "    <tr>\n",
       "      <th>41710</th>\n",
       "      <td>2013</td>\n",
       "      <td>Level 3</td>\n",
       "      <td>ZZ11</td>\n",
       "      <td>Food product manufacturing</td>\n",
       "      <td>Percentage</td>\n",
       "      <td>H37</td>\n",
       "      <td>Quick ratio</td>\n",
       "      <td>Financial ratios</td>\n",
       "      <td>52</td>\n",
       "      <td>ANZSIC06 groups C111, C112, C113, C114, C115, ...</td>\n",
       "      <td>ANZSIC06 groups C111</td>\n",
       "      <td>C112</td>\n",
       "      <td>C113</td>\n",
       "      <td>C114</td>\n",
       "      <td>C115</td>\n",
       "      <td>C116</td>\n",
       "      <td>C117</td>\n",
       "      <td>C118</td>\n",
       "      <td>and C119</td>\n",
       "    </tr>\n",
       "    <tr>\n",
       "      <th>41711</th>\n",
       "      <td>2013</td>\n",
       "      <td>Level 3</td>\n",
       "      <td>ZZ11</td>\n",
       "      <td>Food product manufacturing</td>\n",
       "      <td>Percentage</td>\n",
       "      <td>H38</td>\n",
       "      <td>Margin on sales of goods for resale</td>\n",
       "      <td>Financial ratios</td>\n",
       "      <td>40</td>\n",
       "      <td>ANZSIC06 groups C111, C112, C113, C114, C115, ...</td>\n",
       "      <td>ANZSIC06 groups C111</td>\n",
       "      <td>C112</td>\n",
       "      <td>C113</td>\n",
       "      <td>C114</td>\n",
       "      <td>C115</td>\n",
       "      <td>C116</td>\n",
       "      <td>C117</td>\n",
       "      <td>C118</td>\n",
       "      <td>and C119</td>\n",
       "    </tr>\n",
       "    <tr>\n",
       "      <th>41712</th>\n",
       "      <td>2013</td>\n",
       "      <td>Level 3</td>\n",
       "      <td>ZZ11</td>\n",
       "      <td>Food product manufacturing</td>\n",
       "      <td>Percentage</td>\n",
       "      <td>H39</td>\n",
       "      <td>Return on equity</td>\n",
       "      <td>Financial ratios</td>\n",
       "      <td>12</td>\n",
       "      <td>ANZSIC06 groups C111, C112, C113, C114, C115, ...</td>\n",
       "      <td>ANZSIC06 groups C111</td>\n",
       "      <td>C112</td>\n",
       "      <td>C113</td>\n",
       "      <td>C114</td>\n",
       "      <td>C115</td>\n",
       "      <td>C116</td>\n",
       "      <td>C117</td>\n",
       "      <td>C118</td>\n",
       "      <td>and C119</td>\n",
       "    </tr>\n",
       "    <tr>\n",
       "      <th>41713</th>\n",
       "      <td>2013</td>\n",
       "      <td>Level 3</td>\n",
       "      <td>ZZ11</td>\n",
       "      <td>Food product manufacturing</td>\n",
       "      <td>Percentage</td>\n",
       "      <td>H40</td>\n",
       "      <td>Return on total assets</td>\n",
       "      <td>Financial ratios</td>\n",
       "      <td>5</td>\n",
       "      <td>ANZSIC06 groups C111, C112, C113, C114, C115, ...</td>\n",
       "      <td>ANZSIC06 groups C111</td>\n",
       "      <td>C112</td>\n",
       "      <td>C113</td>\n",
       "      <td>C114</td>\n",
       "      <td>C115</td>\n",
       "      <td>C116</td>\n",
       "      <td>C117</td>\n",
       "      <td>C118</td>\n",
       "      <td>and C119</td>\n",
       "    </tr>\n",
       "    <tr>\n",
       "      <th>41714</th>\n",
       "      <td>2013</td>\n",
       "      <td>Level 3</td>\n",
       "      <td>ZZ11</td>\n",
       "      <td>Food product manufacturing</td>\n",
       "      <td>Percentage</td>\n",
       "      <td>H41</td>\n",
       "      <td>Liabilities structure</td>\n",
       "      <td>Financial ratios</td>\n",
       "      <td>46</td>\n",
       "      <td>ANZSIC06 groups C111, C112, C113, C114, C115, ...</td>\n",
       "      <td>ANZSIC06 groups C111</td>\n",
       "      <td>C112</td>\n",
       "      <td>C113</td>\n",
       "      <td>C114</td>\n",
       "      <td>C115</td>\n",
       "      <td>C116</td>\n",
       "      <td>C117</td>\n",
       "      <td>C118</td>\n",
       "      <td>and C119</td>\n",
       "    </tr>\n",
       "  </tbody>\n",
       "</table>\n",
       "<p>41715 rows × 19 columns</p>\n",
       "</div>"
      ],
      "text/plain": [
       "       Year Industry_aggregation_NZSIOC Industry_code_NZSIOC  \\\n",
       "0      2021                     Level 1                99999   \n",
       "1      2021                     Level 1                99999   \n",
       "2      2021                     Level 1                99999   \n",
       "3      2021                     Level 1                99999   \n",
       "4      2021                     Level 1                99999   \n",
       "...     ...                         ...                  ...   \n",
       "41710  2013                     Level 3                 ZZ11   \n",
       "41711  2013                     Level 3                 ZZ11   \n",
       "41712  2013                     Level 3                 ZZ11   \n",
       "41713  2013                     Level 3                 ZZ11   \n",
       "41714  2013                     Level 3                 ZZ11   \n",
       "\n",
       "             Industry_name_NZSIOC               Units Variable_code  \\\n",
       "0                  All industries  Dollars (millions)           H01   \n",
       "1                  All industries  Dollars (millions)           H04   \n",
       "2                  All industries  Dollars (millions)           H05   \n",
       "3                  All industries  Dollars (millions)           H07   \n",
       "4                  All industries  Dollars (millions)           H08   \n",
       "...                           ...                 ...           ...   \n",
       "41710  Food product manufacturing          Percentage           H37   \n",
       "41711  Food product manufacturing          Percentage           H38   \n",
       "41712  Food product manufacturing          Percentage           H39   \n",
       "41713  Food product manufacturing          Percentage           H40   \n",
       "41714  Food product manufacturing          Percentage           H41   \n",
       "\n",
       "                                         Variable_name      Variable_category  \\\n",
       "0                                         Total income  Financial performance   \n",
       "1      Sales, government funding, grants and subsidies  Financial performance   \n",
       "2                    Interest, dividends and donations  Financial performance   \n",
       "3                                 Non-operating income  Financial performance   \n",
       "4                                    Total expenditure  Financial performance   \n",
       "...                                                ...                    ...   \n",
       "41710                                      Quick ratio       Financial ratios   \n",
       "41711              Margin on sales of goods for resale       Financial ratios   \n",
       "41712                                 Return on equity       Financial ratios   \n",
       "41713                           Return on total assets       Financial ratios   \n",
       "41714                            Liabilities structure       Financial ratios   \n",
       "\n",
       "        Value                             Industry_code_ANZSIC06  \\\n",
       "0      757504  ANZSIC06 divisions A-S (excluding classes K633...   \n",
       "1      674890  ANZSIC06 divisions A-S (excluding classes K633...   \n",
       "2       49593  ANZSIC06 divisions A-S (excluding classes K633...   \n",
       "3       33020  ANZSIC06 divisions A-S (excluding classes K633...   \n",
       "4      654404  ANZSIC06 divisions A-S (excluding classes K633...   \n",
       "...       ...                                                ...   \n",
       "41710      52  ANZSIC06 groups C111, C112, C113, C114, C115, ...   \n",
       "41711      40  ANZSIC06 groups C111, C112, C113, C114, C115, ...   \n",
       "41712      12  ANZSIC06 groups C111, C112, C113, C114, C115, ...   \n",
       "41713       5  ANZSIC06 groups C111, C112, C113, C114, C115, ...   \n",
       "41714      46  ANZSIC06 groups C111, C112, C113, C114, C115, ...   \n",
       "\n",
       "                              Industry_code_ANZSIC06.1   Code1   Code2  Code3  \\\n",
       "0      ANZSIC06 divisions A-S (excluding classes K6330   L6711   O7552   O760   \n",
       "1      ANZSIC06 divisions A-S (excluding classes K6330   L6711   O7552   O760   \n",
       "2      ANZSIC06 divisions A-S (excluding classes K6330   L6711   O7552   O760   \n",
       "3      ANZSIC06 divisions A-S (excluding classes K6330   L6711   O7552   O760   \n",
       "4      ANZSIC06 divisions A-S (excluding classes K6330   L6711   O7552   O760   \n",
       "...                                                ...     ...     ...    ...   \n",
       "41710                             ANZSIC06 groups C111    C112    C113   C114   \n",
       "41711                             ANZSIC06 groups C111    C112    C113   C114   \n",
       "41712                             ANZSIC06 groups C111    C112    C113   C114   \n",
       "41713                             ANZSIC06 groups C111    C112    C113   C114   \n",
       "41714                             ANZSIC06 groups C111    C112    C113   C114   \n",
       "\n",
       "       Code4  Code5   Code6   Code7      Code8  \n",
       "0       O771   O772   S9540   S9601      S9602  \n",
       "1       O771   O772   S9540   S9601      S9602  \n",
       "2       O771   O772   S9540   S9601      S9602  \n",
       "3       O771   O772   S9540   S9601      S9602  \n",
       "4       O771   O772   S9540   S9601      S9602  \n",
       "...      ...    ...     ...     ...        ...  \n",
       "41710   C115   C116    C117    C118   and C119  \n",
       "41711   C115   C116    C117    C118   and C119  \n",
       "41712   C115   C116    C117    C118   and C119  \n",
       "41713   C115   C116    C117    C118   and C119  \n",
       "41714   C115   C116    C117    C118   and C119  \n",
       "\n",
       "[41715 rows x 19 columns]"
      ]
     },
     "execution_count": 14,
     "metadata": {},
     "output_type": "execute_result"
    }
   ],
   "source": [
    "ds = pd.read_excel(\"D:\\\\USER DATA\\\\Desktop\\\\Mitesh Prajapati\\\\Module 3 Excel\\\\annual-enterprise-survey-2021-financial-year-provisional-csv.xlsx\")\n",
    "ds"
   ]
  },
  {
   "cell_type": "markdown",
   "id": "fc00256e",
   "metadata": {},
   "source": [
    "### 6. Write the code to show the number of rows and columns in data frame. "
   ]
  },
  {
   "cell_type": "code",
   "execution_count": 17,
   "id": "a118c2a1",
   "metadata": {},
   "outputs": [
    {
     "data": {
      "text/plain": [
       "Index(['Year', 'Industry_aggregation_NZSIOC', 'Industry_code_NZSIOC',\n",
       "       'Industry_name_NZSIOC', 'Units', 'Variable_code', 'Variable_name',\n",
       "       'Variable_category', 'Value', 'Industry_code_ANZSIC06',\n",
       "       'Industry_code_ANZSIC06.1', 'Code1', 'Code2', 'Code3', 'Code4', 'Code5',\n",
       "       'Code6', 'Code7', 'Code8'],\n",
       "      dtype='object')"
      ]
     },
     "execution_count": 17,
     "metadata": {},
     "output_type": "execute_result"
    }
   ],
   "source": [
    "ds.columns #for columns name"
   ]
  },
  {
   "cell_type": "code",
   "execution_count": 23,
   "id": "59ca9621",
   "metadata": {},
   "outputs": [
    {
     "name": "stdout",
     "output_type": "stream",
     "text": [
      "No of rows :-  41715\n",
      "No of rows :-  19\n"
     ]
    }
   ],
   "source": [
    "print(\"No of rows :- \",len(ds))\n",
    "print(\"No of rows :- \",len(ds.columns))"
   ]
  },
  {
   "cell_type": "code",
   "execution_count": 20,
   "id": "63c7dc67",
   "metadata": {},
   "outputs": [
    {
     "name": "stdout",
     "output_type": "stream",
     "text": [
      "<class 'pandas.core.frame.DataFrame'>\n",
      "RangeIndex: 41715 entries, 0 to 41714\n",
      "Data columns (total 19 columns):\n",
      " #   Column                       Non-Null Count  Dtype \n",
      "---  ------                       --------------  ----- \n",
      " 0   Year                         41715 non-null  int64 \n",
      " 1   Industry_aggregation_NZSIOC  41715 non-null  object\n",
      " 2   Industry_code_NZSIOC         41715 non-null  object\n",
      " 3   Industry_name_NZSIOC         41715 non-null  object\n",
      " 4   Units                        41715 non-null  object\n",
      " 5   Variable_code                41715 non-null  object\n",
      " 6   Variable_name                41715 non-null  object\n",
      " 7   Variable_category            41715 non-null  object\n",
      " 8   Value                        41715 non-null  object\n",
      " 9   Industry_code_ANZSIC06       41715 non-null  object\n",
      " 10  Industry_code_ANZSIC06.1     41715 non-null  object\n",
      " 11  Code1                        15201 non-null  object\n",
      " 12  Code2                        14895 non-null  object\n",
      " 13  Code3                        8019 non-null   object\n",
      " 14  Code4                        4905 non-null   object\n",
      " 15  Code5                        2448 non-null   object\n",
      " 16  Code6                        2124 non-null   object\n",
      " 17  Code7                        927 non-null    object\n",
      " 18  Code8                        927 non-null    object\n",
      "dtypes: int64(1), object(18)\n",
      "memory usage: 6.0+ MB\n"
     ]
    }
   ],
   "source": [
    "ds.info()"
   ]
  },
  {
   "cell_type": "markdown",
   "id": "1f23514e",
   "metadata": {},
   "source": [
    "### 7. How might you show the first few rows of data frame? "
   ]
  },
  {
   "cell_type": "code",
   "execution_count": 28,
   "id": "ab2692ca",
   "metadata": {},
   "outputs": [
    {
     "data": {
      "text/html": [
       "<div>\n",
       "<style scoped>\n",
       "    .dataframe tbody tr th:only-of-type {\n",
       "        vertical-align: middle;\n",
       "    }\n",
       "\n",
       "    .dataframe tbody tr th {\n",
       "        vertical-align: top;\n",
       "    }\n",
       "\n",
       "    .dataframe thead th {\n",
       "        text-align: right;\n",
       "    }\n",
       "</style>\n",
       "<table border=\"1\" class=\"dataframe\">\n",
       "  <thead>\n",
       "    <tr style=\"text-align: right;\">\n",
       "      <th></th>\n",
       "      <th>Year</th>\n",
       "      <th>Industry_aggregation_NZSIOC</th>\n",
       "      <th>Industry_code_NZSIOC</th>\n",
       "      <th>Industry_name_NZSIOC</th>\n",
       "      <th>Units</th>\n",
       "      <th>Variable_code</th>\n",
       "      <th>Variable_name</th>\n",
       "      <th>Variable_category</th>\n",
       "      <th>Value</th>\n",
       "      <th>Industry_code_ANZSIC06</th>\n",
       "      <th>Industry_code_ANZSIC06.1</th>\n",
       "      <th>Code1</th>\n",
       "      <th>Code2</th>\n",
       "      <th>Code3</th>\n",
       "      <th>Code4</th>\n",
       "      <th>Code5</th>\n",
       "      <th>Code6</th>\n",
       "      <th>Code7</th>\n",
       "      <th>Code8</th>\n",
       "    </tr>\n",
       "  </thead>\n",
       "  <tbody>\n",
       "    <tr>\n",
       "      <th>0</th>\n",
       "      <td>2021</td>\n",
       "      <td>Level 1</td>\n",
       "      <td>99999</td>\n",
       "      <td>All industries</td>\n",
       "      <td>Dollars (millions)</td>\n",
       "      <td>H01</td>\n",
       "      <td>Total income</td>\n",
       "      <td>Financial performance</td>\n",
       "      <td>757504</td>\n",
       "      <td>ANZSIC06 divisions A-S (excluding classes K633...</td>\n",
       "      <td>ANZSIC06 divisions A-S (excluding classes K6330</td>\n",
       "      <td>L6711</td>\n",
       "      <td>O7552</td>\n",
       "      <td>O760</td>\n",
       "      <td>O771</td>\n",
       "      <td>O772</td>\n",
       "      <td>S9540</td>\n",
       "      <td>S9601</td>\n",
       "      <td>S9602</td>\n",
       "    </tr>\n",
       "    <tr>\n",
       "      <th>1</th>\n",
       "      <td>2021</td>\n",
       "      <td>Level 1</td>\n",
       "      <td>99999</td>\n",
       "      <td>All industries</td>\n",
       "      <td>Dollars (millions)</td>\n",
       "      <td>H04</td>\n",
       "      <td>Sales, government funding, grants and subsidies</td>\n",
       "      <td>Financial performance</td>\n",
       "      <td>674890</td>\n",
       "      <td>ANZSIC06 divisions A-S (excluding classes K633...</td>\n",
       "      <td>ANZSIC06 divisions A-S (excluding classes K6330</td>\n",
       "      <td>L6711</td>\n",
       "      <td>O7552</td>\n",
       "      <td>O760</td>\n",
       "      <td>O771</td>\n",
       "      <td>O772</td>\n",
       "      <td>S9540</td>\n",
       "      <td>S9601</td>\n",
       "      <td>S9602</td>\n",
       "    </tr>\n",
       "    <tr>\n",
       "      <th>2</th>\n",
       "      <td>2021</td>\n",
       "      <td>Level 1</td>\n",
       "      <td>99999</td>\n",
       "      <td>All industries</td>\n",
       "      <td>Dollars (millions)</td>\n",
       "      <td>H05</td>\n",
       "      <td>Interest, dividends and donations</td>\n",
       "      <td>Financial performance</td>\n",
       "      <td>49593</td>\n",
       "      <td>ANZSIC06 divisions A-S (excluding classes K633...</td>\n",
       "      <td>ANZSIC06 divisions A-S (excluding classes K6330</td>\n",
       "      <td>L6711</td>\n",
       "      <td>O7552</td>\n",
       "      <td>O760</td>\n",
       "      <td>O771</td>\n",
       "      <td>O772</td>\n",
       "      <td>S9540</td>\n",
       "      <td>S9601</td>\n",
       "      <td>S9602</td>\n",
       "    </tr>\n",
       "    <tr>\n",
       "      <th>3</th>\n",
       "      <td>2021</td>\n",
       "      <td>Level 1</td>\n",
       "      <td>99999</td>\n",
       "      <td>All industries</td>\n",
       "      <td>Dollars (millions)</td>\n",
       "      <td>H07</td>\n",
       "      <td>Non-operating income</td>\n",
       "      <td>Financial performance</td>\n",
       "      <td>33020</td>\n",
       "      <td>ANZSIC06 divisions A-S (excluding classes K633...</td>\n",
       "      <td>ANZSIC06 divisions A-S (excluding classes K6330</td>\n",
       "      <td>L6711</td>\n",
       "      <td>O7552</td>\n",
       "      <td>O760</td>\n",
       "      <td>O771</td>\n",
       "      <td>O772</td>\n",
       "      <td>S9540</td>\n",
       "      <td>S9601</td>\n",
       "      <td>S9602</td>\n",
       "    </tr>\n",
       "    <tr>\n",
       "      <th>4</th>\n",
       "      <td>2021</td>\n",
       "      <td>Level 1</td>\n",
       "      <td>99999</td>\n",
       "      <td>All industries</td>\n",
       "      <td>Dollars (millions)</td>\n",
       "      <td>H08</td>\n",
       "      <td>Total expenditure</td>\n",
       "      <td>Financial performance</td>\n",
       "      <td>654404</td>\n",
       "      <td>ANZSIC06 divisions A-S (excluding classes K633...</td>\n",
       "      <td>ANZSIC06 divisions A-S (excluding classes K6330</td>\n",
       "      <td>L6711</td>\n",
       "      <td>O7552</td>\n",
       "      <td>O760</td>\n",
       "      <td>O771</td>\n",
       "      <td>O772</td>\n",
       "      <td>S9540</td>\n",
       "      <td>S9601</td>\n",
       "      <td>S9602</td>\n",
       "    </tr>\n",
       "    <tr>\n",
       "      <th>5</th>\n",
       "      <td>2021</td>\n",
       "      <td>Level 1</td>\n",
       "      <td>99999</td>\n",
       "      <td>All industries</td>\n",
       "      <td>Dollars (millions)</td>\n",
       "      <td>H09</td>\n",
       "      <td>Interest and donations</td>\n",
       "      <td>Financial performance</td>\n",
       "      <td>26138</td>\n",
       "      <td>ANZSIC06 divisions A-S (excluding classes K633...</td>\n",
       "      <td>ANZSIC06 divisions A-S (excluding classes K6330</td>\n",
       "      <td>L6711</td>\n",
       "      <td>O7552</td>\n",
       "      <td>O760</td>\n",
       "      <td>O771</td>\n",
       "      <td>O772</td>\n",
       "      <td>S9540</td>\n",
       "      <td>S9601</td>\n",
       "      <td>S9602</td>\n",
       "    </tr>\n",
       "  </tbody>\n",
       "</table>\n",
       "</div>"
      ],
      "text/plain": [
       "   Year Industry_aggregation_NZSIOC Industry_code_NZSIOC Industry_name_NZSIOC  \\\n",
       "0  2021                     Level 1                99999       All industries   \n",
       "1  2021                     Level 1                99999       All industries   \n",
       "2  2021                     Level 1                99999       All industries   \n",
       "3  2021                     Level 1                99999       All industries   \n",
       "4  2021                     Level 1                99999       All industries   \n",
       "5  2021                     Level 1                99999       All industries   \n",
       "\n",
       "                Units Variable_code  \\\n",
       "0  Dollars (millions)           H01   \n",
       "1  Dollars (millions)           H04   \n",
       "2  Dollars (millions)           H05   \n",
       "3  Dollars (millions)           H07   \n",
       "4  Dollars (millions)           H08   \n",
       "5  Dollars (millions)           H09   \n",
       "\n",
       "                                     Variable_name      Variable_category  \\\n",
       "0                                     Total income  Financial performance   \n",
       "1  Sales, government funding, grants and subsidies  Financial performance   \n",
       "2                Interest, dividends and donations  Financial performance   \n",
       "3                             Non-operating income  Financial performance   \n",
       "4                                Total expenditure  Financial performance   \n",
       "5                           Interest and donations  Financial performance   \n",
       "\n",
       "    Value                             Industry_code_ANZSIC06  \\\n",
       "0  757504  ANZSIC06 divisions A-S (excluding classes K633...   \n",
       "1  674890  ANZSIC06 divisions A-S (excluding classes K633...   \n",
       "2   49593  ANZSIC06 divisions A-S (excluding classes K633...   \n",
       "3   33020  ANZSIC06 divisions A-S (excluding classes K633...   \n",
       "4  654404  ANZSIC06 divisions A-S (excluding classes K633...   \n",
       "5   26138  ANZSIC06 divisions A-S (excluding classes K633...   \n",
       "\n",
       "                          Industry_code_ANZSIC06.1   Code1   Code2  Code3  \\\n",
       "0  ANZSIC06 divisions A-S (excluding classes K6330   L6711   O7552   O760   \n",
       "1  ANZSIC06 divisions A-S (excluding classes K6330   L6711   O7552   O760   \n",
       "2  ANZSIC06 divisions A-S (excluding classes K6330   L6711   O7552   O760   \n",
       "3  ANZSIC06 divisions A-S (excluding classes K6330   L6711   O7552   O760   \n",
       "4  ANZSIC06 divisions A-S (excluding classes K6330   L6711   O7552   O760   \n",
       "5  ANZSIC06 divisions A-S (excluding classes K6330   L6711   O7552   O760   \n",
       "\n",
       "   Code4  Code5   Code6   Code7   Code8  \n",
       "0   O771   O772   S9540   S9601   S9602  \n",
       "1   O771   O772   S9540   S9601   S9602  \n",
       "2   O771   O772   S9540   S9601   S9602  \n",
       "3   O771   O772   S9540   S9601   S9602  \n",
       "4   O771   O772   S9540   S9601   S9602  \n",
       "5   O771   O772   S9540   S9601   S9602  "
      ]
     },
     "execution_count": 28,
     "metadata": {},
     "output_type": "execute_result"
    }
   ],
   "source": [
    "ds.head(6)"
   ]
  },
  {
   "cell_type": "markdown",
   "id": "194044cd",
   "metadata": {},
   "source": [
    "### 8. If you select a single column from the diamonds Data Frame, what will be the type of the return value? "
   ]
  },
  {
   "cell_type": "code",
   "execution_count": 5,
   "id": "fb418a34",
   "metadata": {},
   "outputs": [],
   "source": [
    "# Object"
   ]
  },
  {
   "cell_type": "markdown",
   "id": "d57614b7",
   "metadata": {},
   "source": [
    "### 9. Create a line plot using the x and y values provided below. Label the y-axis as “Y” and label the x-axis as “X”.\n",
    "### x = [3, 4, 5, 6]\n",
    "### y = [1.5, 2, 2.5, 3] "
   ]
  },
  {
   "cell_type": "code",
   "execution_count": 33,
   "id": "466cafb9",
   "metadata": {},
   "outputs": [
    {
     "data": {
      "image/png": "[encoded data removed]",
      "text/plain": [
       "<Figure size 640x480 with 1 Axes>"
      ]
     },
     "metadata": {},
     "output_type": "display_data"
    }
   ],
   "source": [
    "x = np.array([3, 4, 5, 6])\n",
    "y = np.array([1.5, 2, 2.5, 3])\n",
    "\n",
    "plt.plot(x,y)\n",
    "plt.xlabel(\"X\")\n",
    "plt.ylabel(\"Y\")\n",
    "\n",
    "plt.show()"
   ]
  },
  {
   "cell_type": "markdown",
   "id": "0ea20dd7",
   "metadata": {},
   "source": [
    "### 10. Create an array of numbers between 0 and 6 with increments of 0.3 and name its “x”.\n",
    "### Then on the same plot, plot x, x², x³, and x⁴. For consistency, use the following style lines\n",
    "### respectively, “ro”, “bs”, “g”, and “:”. Lastly, make sure that the x-axis covers 0 to 6, while\n",
    "### the y-axis spans from 0 to 125. Do not worry if you are not familiar with the style lines —\n",
    "### you will recognize them as soon as you see the plot. \n"
   ]
  },
  {
   "cell_type": "code",
   "execution_count": 15,
   "id": "7e432dff",
   "metadata": {},
   "outputs": [
    {
     "data": {
      "image/png": "[encoded data removed]",
      "text/plain": [
       "<Figure size 640x480 with 1 Axes>"
      ]
     },
     "metadata": {},
     "output_type": "display_data"
    }
   ],
   "source": [
    "x = np.arange(0, 6, 0.3)\n",
    "plt.plot(x, x, 'ro', x, x**2, 'bs', x, x**3, 'g^', x, x**4, ':')\n",
    "plt.axis([0, 6, 0, 125])\n",
    "plt.show()"
   ]
  },
  {
   "cell_type": "markdown",
   "id": "e5e3e85e",
   "metadata": {},
   "source": [
    "### 11. Heights and initials of a group of individuals are provided below. Create a bar plot titled\n",
    "### “Height Comparison” to compare the heights among this group.\n",
    "### height = [179, 155, 191, 152, 188, 177]\n",
    "### names = ['QA', 'WB', 'EC', 'RD', 'TE', 'YF'] "
   ]
  },
  {
   "cell_type": "code",
   "execution_count": 45,
   "id": "804d29b5",
   "metadata": {},
   "outputs": [
    {
     "data": {
      "image/png": "[encoded data removed]",
      "text/plain": [
       "<Figure size 640x480 with 1 Axes>"
      ]
     },
     "metadata": {},
     "output_type": "display_data"
    }
   ],
   "source": [
    "height = np.array([179, 155, 191, 152, 188, 177])\n",
    "names = np.array(['QA', 'WB', 'EC', 'RD', 'TE', 'YF']) \n",
    "\n",
    "plt.bar(names,height,color = \"grey\",width = 0.4)\n",
    "\n",
    "plt.title(\"Height Comparison\")\n",
    "plt.xlabel(\"Group Names\")\n",
    "plt.ylabel(\"Height\")\n",
    "\n",
    "plt.show()"
   ]
  },
  {
   "cell_type": "markdown",
   "id": "d8273414",
   "metadata": {},
   "source": [
    "### 12. Plot a histogram of x, where x consists of 100,000 randomly-selected points with a normal\n",
    "### distribution (hint: you can use numpy.random.randn() to generate the random points). The\n",
    "### histogram should have 10 bins. Look at how the histogram changes when we try 20 and 50 bins. "
   ]
  },
  {
   "cell_type": "code",
   "execution_count": 16,
   "id": "3c0052fb",
   "metadata": {},
   "outputs": [
    {
     "data": {
      "image/png": "[encoded data removed]",
      "text/plain": [
       "<Figure size 640x480 with 1 Axes>"
      ]
     },
     "metadata": {},
     "output_type": "display_data"
    },
    {
     "data": {
      "image/png": "[encoded data removed]",
      "text/plain": [
       "<Figure size 640x480 with 1 Axes>"
      ]
     },
     "metadata": {},
     "output_type": "display_data"
    },
    {
     "data": {
      "image/png": "[encoded data removed]",
      "text/plain": [
       "<Figure size 640x480 with 1 Axes>"
      ]
     },
     "metadata": {},
     "output_type": "display_data"
    }
   ],
   "source": [
    "np.random.seed(1234)\n",
    "point_count = 100000\n",
    "bin_count = [10, 20, 50]\n",
    "x = np.random.randn(point_count)\n",
    "for bc in bin_count:\n",
    "    plt.hist(x, bins = bc)\n",
    "    plt.title(F'Histogram with {bc} bins')\n",
    "    plt.show()"
   ]
  },
  {
   "cell_type": "code",
   "execution_count": null,
   "id": "1fa624e4",
   "metadata": {},
   "outputs": [],
   "source": []
  }
 ],
 "metadata": {
  "kernelspec": {
   "display_name": "Python 3 (ipykernel)",
   "language": "python",
   "name": "python3"
  },
  "language_info": {
   "codemirror_mode": {
    "name": "ipython",
    "version": 3
   },
   "file_extension": ".py",
   "mimetype": "text/x-python",
   "name": "python",
   "nbconvert_exporter": "python",
   "pygments_lexer": "ipython3",
   "version": "3.9.13"
  }
 },
 "nbformat": 4,
 "nbformat_minor": 5
}
