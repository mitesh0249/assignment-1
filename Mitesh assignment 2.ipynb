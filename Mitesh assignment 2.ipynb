{
 "cells": [
  {
   "cell_type": "code",
   "execution_count": 2,
   "id": "f291ac7e",
   "metadata": {},
   "outputs": [
    {
     "name": "stdout",
     "output_type": "stream",
     "text": [
      "12\n"
     ]
    }
   ],
   "source": [
    "# 1. Write a python program to sum of the first n positive integers.\n",
    "\n",
    "x = 2\n",
    "y = 4\n",
    "z = 6\n",
    "print(x+y+z)"
   ]
  },
  {
   "cell_type": "code",
   "execution_count": 32,
   "id": "edce7c1b",
   "metadata": {},
   "outputs": [
    {
     "name": "stdout",
     "output_type": "stream",
     "text": [
      "2\n"
     ]
    }
   ],
   "source": [
    "# 2. Write a Python program to count occurrences of a substring in a string.\n",
    "\n",
    "x = \"I love apple,and apple is one of the favourite food\"\n",
    "a = x.count(\"apple\")\n",
    "print(a)\n"
   ]
  },
  {
   "cell_type": "code",
   "execution_count": 9,
   "id": "126a0ab1",
   "metadata": {},
   "outputs": [
    {
     "name": "stdout",
     "output_type": "stream",
     "text": [
      "25\n"
     ]
    }
   ],
   "source": [
    "# 3. Write a Python program to count the occurrences of each word in a given sentence.\n",
    "\n",
    "x = (\"Hii i am Mitesh Prajapati\")\n",
    "print(len(x))"
   ]
  },
  {
   "cell_type": "code",
   "execution_count": 2,
   "id": "0f2bf600",
   "metadata": {},
   "outputs": [
    {
     "name": "stdout",
     "output_type": "stream",
     "text": [
      "Hii I am mitesh Prajapati\n",
      "Jii\n",
      "J am mitesh Prajapati\n"
     ]
    }
   ],
   "source": [
    "# 4. Write a Python program to get a single string from two given strings, separated by a space and swap \n",
    "#    the first two character of each string.\n",
    "\n",
    "x = (\"Hii\")\n",
    "y =(\"I am mitesh Prajapati\")\n",
    "print(x + \" \" + y)\n",
    "\n",
    "print(x.replace(\"H\",\"J\"))\n",
    "print(y.replace(\"I\",\"J\"))\n"
   ]
  },
  {
   "cell_type": "code",
   "execution_count": 6,
   "id": "3038ae3c",
   "metadata": {},
   "outputs": [
    {
     "name": "stdout",
     "output_type": "stream",
     "text": [
      "['apple', 'banana', 'cherry', 'ing']\n",
      "yes it is present\n",
      "['apple', 'banana', 'cherry', ['ly']]\n"
     ]
    }
   ],
   "source": [
    "# 5. Write a Python program to add 'ing' at the end of a given string (length should be at least 3).\n",
    "#    If the given string already ends with 'ing' then add 'ly' instead. If the string length of the given\n",
    "#    string is less than 3, leave it unchanged\n",
    "\n",
    "a = [\"apple\",\"banana\",\"cherry\"]\n",
    "a.append(\"ing\")\n",
    "print(a)\n",
    "if \"ing\" in a :\n",
    "    print(\"yes it is present\")\n",
    "a[3] = ['ly']\n",
    "print(a)\n"
   ]
  },
  {
   "cell_type": "code",
   "execution_count": 9,
   "id": "ee91d8e5",
   "metadata": {},
   "outputs": [
    {
     "name": "stdout",
     "output_type": "stream",
     "text": [
      "2\n",
      "3\n",
      "['apple', 'banana', 'good', 'cherry']\n"
     ]
    }
   ],
   "source": [
    "# 6. Write a Python program to find the first appearance of the substring 'not' and 'poor' from a given string, if\n",
    "#   'not' follows the 'poor', replace the whole 'not'...'poor' substring with 'good'.\n",
    "#    Return the resulting string\n",
    "\n",
    "a = [\"apple\",\"banana\",\"not\",\"poor\",\"cherry\"]\n",
    "x = a.index(\"not\")\n",
    "y = a.index(\"poor\")\n",
    "print(x)\n",
    "print(y)\n",
    "\n",
    "a[2:4] = [\"good\"]\n",
    "print(a)\n",
    " "
   ]
  },
  {
   "cell_type": "code",
   "execution_count": 3,
   "id": "49315d7c",
   "metadata": {},
   "outputs": [
    {
     "name": "stdout",
     "output_type": "stream",
     "text": [
      "4\n"
     ]
    }
   ],
   "source": [
    "# 7. Program to find Greatest Common Divisor of two numbers.\n",
    "#    For example, the GCD of 20 and 28 is 4 and GCD of 98 and 56 is 14.\n",
    "\n",
    "x = 20\n",
    "y = 28\n",
    "\n",
    "import math \n",
    "\n",
    "y = math.gcd(x,y)\n",
    "print(y)"
   ]
  },
  {
   "cell_type": "code",
   "execution_count": 19,
   "id": "bf88dfd1",
   "metadata": {},
   "outputs": [
    {
     "name": "stdout",
     "output_type": "stream",
     "text": [
      "Yes 'cherry' is present in the list.\n"
     ]
    }
   ],
   "source": [
    "# 8. Write a Python program to check whether a list contains a sublist.\n",
    "\n",
    "a = [\"apple\",\"Cherry\",\"banana\"]\n",
    "\n",
    "if \"Cherry\" in a :\n",
    "    print(\"Yes 'cherry' is present in the list.\")\n",
    "else :\n",
    "    print(\"No it is not present.\")"
   ]
  },
  {
   "cell_type": "code",
   "execution_count": 4,
   "id": "da9bb1b9",
   "metadata": {},
   "outputs": [
    {
     "name": "stdout",
     "output_type": "stream",
     "text": [
      "[1, 2, 5, 6, 9, 11, 35]\n"
     ]
    }
   ],
   "source": [
    "# 9. Write a Python program to find the second smallest number in a list. \n",
    "\n",
    "a = [2,5,1,9,11,6,35]\n",
    "a.sort()\n",
    "print(a)"
   ]
  },
  {
   "cell_type": "code",
   "execution_count": 1,
   "id": "e0807f33",
   "metadata": {},
   "outputs": [
    {
     "name": "stdout",
     "output_type": "stream",
     "text": [
      "[1, 2, 3, 4, 5]\n"
     ]
    }
   ],
   "source": [
    "numbers = [1, 2, 2, 3, 3, 4, 5]\n",
    "\n",
    "\n",
    "def get_unique_numbers(numbers):\n",
    "\n",
    "    list_of_unique_numbers = []\n",
    "\n",
    "    unique_numbers = set(numbers)\n",
    "\n",
    "    for number in unique_numbers:\n",
    "        list_of_unique_numbers.append(number)\n",
    "\n",
    "    return list_of_unique_numbers\n",
    "\n",
    "\n",
    "print(get_unique_numbers(numbers))"
   ]
  },
  {
   "cell_type": "code",
   "execution_count": 6,
   "id": "95b9548a",
   "metadata": {},
   "outputs": [
    {
     "name": "stdout",
     "output_type": "stream",
     "text": [
      "[('a', 'b', 'c'), (1, 2, 3)]\n"
     ]
    }
   ],
   "source": [
    "# 11. Write a Python program to unzip a list of tuples into individual lists.\n",
    "\n",
    "a = [(\"a\",1),(\"b\",2),(\"c\",3)]\n",
    "print(list(zip(*a)))"
   ]
  },
  {
   "cell_type": "code",
   "execution_count": 4,
   "id": "0c4cf36e",
   "metadata": {},
   "outputs": [
    {
     "name": "stdout",
     "output_type": "stream",
     "text": [
      "{'a': 1, 'b': 2, 'c': 3}\n"
     ]
    }
   ],
   "source": [
    "# 12. Write a Python program to convert a list of tuples into a dictionary\n",
    "\n",
    "a = [(\"a\",1),(\"b\",2),(\"c\",3)]\n",
    "b = dict(a)\n",
    "print(b)"
   ]
  },
  {
   "cell_type": "code",
   "execution_count": 14,
   "id": "7af0acb3",
   "metadata": {},
   "outputs": [
    {
     "name": "stdout",
     "output_type": "stream",
     "text": [
      "{'c': 10, 'a': 25, 'd': 28, 'b': 65, 'e': 95}\n",
      "{'e': 95, 'b': 65, 'd': 28, 'a': 25, 'c': 10}\n"
     ]
    }
   ],
   "source": [
    "# 13. Write a Python program to sort a dictionary (ascending /descending) by value.\n",
    "\n",
    "dic = {\n",
    "    \"a\" : 25,\n",
    "    \"b\" : 65,\n",
    "    \"c\" : 10,\n",
    "    \"d\" : 28,\n",
    "    \"e\" : 95\n",
    "}\n",
    "\n",
    "dic_1 = sorted(dic.items(),key = lambda x:x[1])\n",
    "dict_2 = dict(dic_1)\n",
    "print(dict_2)\n",
    "\n",
    "dic_1 = sorted(dic.items(),key = lambda x:x[1],reverse = True)\n",
    "dict_2 = dict(dic_1)\n",
    "print(dict_2)\n"
   ]
  },
  {
   "cell_type": "code",
   "execution_count": 7,
   "id": "82f418fa",
   "metadata": {},
   "outputs": [
    {
     "name": "stdout",
     "output_type": "stream",
     "text": [
      "Highest value: 95\n",
      "Second highest value: 65\n",
      "Third Highest value: 28\n"
     ]
    }
   ],
   "source": [
    "# 14. Write a Python program to find the highest 3 values in a dictionary.\n",
    "\n",
    "dic = {\n",
    "    \"a\" : 25,\n",
    "    \"b\" : 65,\n",
    "    \"c\" : 10,\n",
    "    \"d\" : 28,\n",
    "    \"e\" : 95\n",
    "}\n",
    "\n",
    "lst = list()\n",
    "for a in dic.values():\n",
    "    lst.append(a)\n",
    "\n",
    "lst.sort()\n",
    "print(\"Highest value:\",lst[-1])\n",
    "print(\"Second highest value:\",lst[-2])\n",
    "print(\"Third Highest value:\",lst[-3])\n"
   ]
  },
  {
   "cell_type": "code",
   "execution_count": null,
   "id": "728ad6c9",
   "metadata": {},
   "outputs": [],
   "source": []
  }
 ],
 "metadata": {
  "kernelspec": {
   "display_name": "Python 3 (ipykernel)",
   "language": "python",
   "name": "python3"
  },
  "language_info": {
   "codemirror_mode": {
    "name": "ipython",
    "version": 3
   },
   "file_extension": ".py",
   "mimetype": "text/x-python",
   "name": "python",
   "nbconvert_exporter": "python",
   "pygments_lexer": "ipython3",
   "version": "3.9.13"
  }
 },
 "nbformat": 4,
 "nbformat_minor": 5
}
